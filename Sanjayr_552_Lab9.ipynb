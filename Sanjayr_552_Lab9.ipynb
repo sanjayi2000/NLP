{
  "cells": [
    {
      "cell_type": "markdown",
      "metadata": {
        "id": "Lq4TdAbe5omd"
      },
      "source": [
        "#Edit distance\n",
        "* edit distance\" refers to a way of quantifying how dissimilar two strings (such as words) are by counting the minimum number of operations required to transform one string into the other.\n",
        "* Insertion: Adding a single character to a string. For example, transforming \"cat\" to \"cats\" requires one insertion ('s').\n",
        "* Deletion: Removing a single character from a string. For example, changing \"cats\" to \"cat\" involves one deletion ('s').\n",
        "* Substitution: Replacing one character in a string with another character. For example, changing \"cat\" to \"bat\" involves substituting 'c' with 'b'."
      ]
    },
    {
      "cell_type": "code",
      "execution_count": 2,
      "metadata": {
        "colab": {
          "base_uri": "https://localhost:8080/"
        },
        "id": "IoU46DYvx-AC",
        "outputId": "1a6c5409-d697-474f-e164-f5210cd0046a"
      },
      "outputs": [
        {
          "name": "stdout",
          "output_type": "stream",
          "text": [
            "Edit distance between 'machine' and 'machines' is: 1\n"
          ]
        }
      ],
      "source": [
        "def edit_distance(word1, word2):\n",
        "    m = len(word1)\n",
        "    n = len(word2)\n",
        "\n",
        "    dp = [[0] * (n + 1) for _ in range(m + 1)]\n",
        "\n",
        "    for i in range(m + 1):\n",
        "        dp[i][0] = i\n",
        "\n",
        "    for j in range(n + 1):\n",
        "        dp[0][j] = j\n",
        "\n",
        "    for i in range(1, m + 1):\n",
        "        for j in range(1, n + 1):\n",
        "            if word1[i - 1] == word2[j - 1]:\n",
        "                dp[i][j] = dp[i - 1][j - 1]\n",
        "            else:\n",
        "                dp[i][j] = min(dp[i - 1][j - 1], dp[i - 1][j], dp[i][j - 1]) + 1\n",
        "\n",
        "    return dp[m][n]\n",
        "\n",
        "word1 = \"machine\"\n",
        "word2 = \"machines\"\n",
        "print(\"Edit distance between '{}' and '{}' is: {}\".format(word1, word2, edit_distance(word1, word2)))\n"
      ]
    },
    {
      "cell_type": "markdown",
      "metadata": {
        "id": "oM2GcLvyd3bW"
      },
      "source": [
        "# Story or Poem Creator"
      ]
    },
    {
      "cell_type": "code",
      "execution_count": 6,
      "metadata": {
        "colab": {
          "base_uri": "https://localhost:8080/"
        },
        "id": "5kSCPACl2Mt0",
        "outputId": "341ba34c-36f3-4624-e9fb-3a7e5f94e6a2"
      },
      "outputs": [
        {
          "name": "stdout",
          "output_type": "stream",
          "text": [
            "Enter three keywords separated by commas (e.g., 'forest, elf, freedom'): Sun,Moon,earth\n",
            "\n",
            "Generated Story:\n",
            "In the deep forest of Sun, lived a lonely Moon who always dreamed of earth.\n",
            "\n",
            "Generated Poem:\n",
            "In the heart of Sun,\n",
            "A Moon silently weeps,\n",
            "Longing for earth,\n",
            "Forever in dreams.\n"
          ]
        }
      ],
      "source": [
        "import random\n",
        "\n",
        "story_templates = [\n",
        "    \"Once upon a time in a land called {0}, there was a {1} who loved nothing more than {2}.\",\n",
        "    \"In the deep forest of {0}, lived a lonely {1} who always dreamed of {2}.\",\n",
        "    \"Long ago in the kingdom of {0}, a {1} set out on a quest to find {2}.\"\n",
        "]\n",
        "\n",
        "poem_templates = [\n",
        "    \"In the heart of {0},\\nA {1} silently weeps,\\nLonging for {2},\\nForever in dreams.\",\n",
        "    \"Ode to {0},\\nWhere {1}s roam,\\nSeeking {2},\\nTheir eternal home.\",\n",
        "    \"{0}, oh {0},\\nA land so fair,\\nA {1} seeks {2},\\nWith hope and prayer.\"\n",
        "]\n",
        "\n",
        "def create_story(keywords):\n",
        "    template = random.choice(story_templates)\n",
        "    return template.format(*keywords)\n",
        "\n",
        "def create_poem(keywords):\n",
        "    template = random.choice(poem_templates)\n",
        "    return template.format(*keywords)\n",
        "\n",
        "keywords = input(\"Enter three keywords separated by commas (e.g., 'forest, elf, freedom'): \").split(',')\n",
        "\n",
        "keywords = [keyword.strip() for keyword in keywords]\n",
        "\n",
        "story = create_story(keywords)\n",
        "poem = create_poem(keywords)\n",
        "\n",
        "print(\"\\nGenerated Story:\")\n",
        "print(story)\n",
        "print(\"\\nGenerated Poem:\")\n",
        "print(poem)\n"
      ]
    }
  ],
  "metadata": {
    "colab": {
      "include_colab_link": true,
      "provenance": []
    },
    "kernelspec": {
      "display_name": "Python 3",
      "name": "python3"
    },
    "language_info": {
      "name": "python"
    }
  },
  "nbformat": 4,
  "nbformat_minor": 0
}
