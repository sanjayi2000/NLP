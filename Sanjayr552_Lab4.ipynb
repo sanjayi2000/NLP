{
  "nbformat": 4,
  "nbformat_minor": 0,
  "metadata": {
    "colab": {
      "provenance": []
    },
    "kernelspec": {
      "name": "python3",
      "display_name": "Python 3"
    },
    "language_info": {
      "name": "python"
    }
  },
  "cells": [
    {
      "cell_type": "code",
      "execution_count": null,
      "metadata": {
        "id": "GbrArQ4zVFyG",
        "colab": {
          "base_uri": "https://localhost:8080/"
        },
        "outputId": "d3962ad6-ff19-4a52-961a-d8b9deac8307"
      },
      "outputs": [
        {
          "output_type": "stream",
          "name": "stderr",
          "text": [
            "[nltk_data] Downloading package wordnet to /root/nltk_data...\n"
          ]
        }
      ],
      "source": [
        "import nltk\n",
        "nltk.download('wordnet')\n",
        "from nltk.corpus import wordnet"
      ]
    },
    {
      "cell_type": "code",
      "source": [
        "words = [\"happy\", \"dog\", \"run\", \"big\", \"quick\"]"
      ],
      "metadata": {
        "id": "i_pm5XY2VRwQ"
      },
      "execution_count": null,
      "outputs": []
    },
    {
      "cell_type": "markdown",
      "source": [
        "a) Find the 3rd meaning of the word in the list"
      ],
      "metadata": {
        "id": "vKW9NGlu9X73"
      }
    },
    {
      "cell_type": "code",
      "source": [
        "for word in words:\n",
        "    synsets = wordnet.synsets(word)\n",
        "    if len(synsets) >= 3:\n",
        "        print(f\"The 3rd meaning of '{word}' is: {synsets[2].definition()}\")\n"
      ],
      "metadata": {
        "id": "W-ZnGYx0YbeK",
        "colab": {
          "base_uri": "https://localhost:8080/"
        },
        "outputId": "af1ada5f-7219-4079-81cb-95a2cb28419f"
      },
      "execution_count": null,
      "outputs": [
        {
          "output_type": "stream",
          "name": "stdout",
          "text": [
            "The 3rd meaning of 'happy' is: eagerly disposed to act or to be of service\n",
            "The 3rd meaning of 'dog' is: informal term for a man\n",
            "The 3rd meaning of 'run' is: a race run on foot\n",
            "The 3rd meaning of 'big' is: very intense\n",
            "The 3rd meaning of 'quick' is: hurried and brief\n"
          ]
        }
      ]
    },
    {
      "cell_type": "markdown",
      "source": [
        "b) Extract the nouns of the word from the synonyms list"
      ],
      "metadata": {
        "id": "UFZBJPe99mh8"
      }
    },
    {
      "cell_type": "code",
      "source": [
        "for word in words:\n",
        "    synsets = wordnet.synsets(word)\n",
        "    nouns = [lemma.name() for synset in synsets for lemma in synset.lemmas() if synset.pos() == 'n']\n",
        "    print(f\"The nouns for '{word}' are: {nouns}\")\n"
      ],
      "metadata": {
        "colab": {
          "base_uri": "https://localhost:8080/"
        },
        "id": "NX8GSTyLVf02",
        "outputId": "6742a0de-f70e-4f92-9b2b-d5907cb9b64e"
      },
      "execution_count": null,
      "outputs": [
        {
          "output_type": "stream",
          "name": "stdout",
          "text": [
            "The nouns for 'happy' are: []\n",
            "The nouns for 'dog' are: ['dog', 'domestic_dog', 'Canis_familiaris', 'frump', 'dog', 'dog', 'cad', 'bounder', 'blackguard', 'dog', 'hound', 'heel', 'frank', 'frankfurter', 'hotdog', 'hot_dog', 'dog', 'wiener', 'wienerwurst', 'weenie', 'pawl', 'detent', 'click', 'dog', 'andiron', 'firedog', 'dog', 'dog-iron']\n",
            "The nouns for 'run' are: ['run', 'tally', 'test', 'trial', 'run', 'footrace', 'foot_race', 'run', 'streak', 'run', 'run', 'running', 'running_play', 'running_game', 'run', 'run', 'running', 'run', 'run', 'run', 'rivulet', 'rill', 'run', 'runnel', 'streamlet', 'political_campaign', 'campaign', 'run', 'run', 'ladder', 'ravel', 'discharge', 'outpouring', 'run', 'run', 'run']\n",
            "The nouns for 'big' are: []\n",
            "The nouns for 'quick' are: ['quick']\n"
          ]
        }
      ]
    },
    {
      "cell_type": "markdown",
      "source": [
        "c) Extract the verbs of the word from the synonyms list"
      ],
      "metadata": {
        "id": "rqRkYO3C9rTT"
      }
    },
    {
      "cell_type": "code",
      "source": [
        "for word in words:\n",
        "    synsets = wordnet.synsets(word)\n",
        "    verbs = [lemma.name() for synset in synsets for lemma in synset.lemmas() if synset.pos() == 'v']\n",
        "    print(f\"The verbs for '{word}' are: {verbs}\")"
      ],
      "metadata": {
        "colab": {
          "base_uri": "https://localhost:8080/"
        },
        "id": "DUADYyAy9t4D",
        "outputId": "4a3f8cb6-4131-480d-d86b-14777c64c95e"
      },
      "execution_count": null,
      "outputs": [
        {
          "output_type": "stream",
          "name": "stdout",
          "text": [
            "The verbs for 'happy' are: []\n",
            "The verbs for 'dog' are: ['chase', 'chase_after', 'trail', 'tail', 'tag', 'give_chase', 'dog', 'go_after', 'track']\n",
            "The verbs for 'run' are: ['run', 'scat', 'run', 'scarper', 'turn_tail', 'lam', 'run_away', 'hightail_it', 'bunk', 'head_for_the_hills', 'take_to_the_woods', 'escape', 'fly_the_coop', 'break_away', 'run', 'go', 'pass', 'lead', 'extend', 'operate', 'run', 'run', 'go', 'run', 'flow', 'feed', 'course', 'function', 'work', 'operate', 'go', 'run', 'range', 'run', 'campaign', 'run', 'play', 'run', 'run', 'tend', 'be_given', 'lean', 'incline', 'run', 'run', 'run', 'run', 'run', 'prevail', 'persist', 'die_hard', 'run', 'endure', 'run', 'run', 'execute', 'carry', 'run', 'run', 'guide', 'run', 'draw', 'pass', 'run', 'lead', 'run', 'run', 'black_market', 'run', 'run', 'bleed', 'run', 'run', 'run', 'run_for', 'run', 'run', 'consort', 'run', 'run', 'ply', 'run', 'hunt', 'run', 'hunt_down', 'track_down', 'race', 'run', 'move', 'go', 'run', 'melt', 'run', 'melt_down', 'ladder', 'run', 'run', 'unravel']\n",
            "The verbs for 'big' are: []\n",
            "The verbs for 'quick' are: []\n"
          ]
        }
      ]
    },
    {
      "cell_type": "markdown",
      "source": [
        "d) Extract the adjectives of the word from the synonyms list"
      ],
      "metadata": {
        "id": "Vh6RLqQr9z6O"
      }
    },
    {
      "cell_type": "code",
      "source": [
        "for word in words:\n",
        "    synsets = wordnet.synsets(word)\n",
        "    adjectives = [lemma.name() for synset in synsets for lemma in synset.lemmas() if synset.pos() == 'a']\n",
        "    print(f\"The adjectives for '{word}' are: {adjectives}\")"
      ],
      "metadata": {
        "colab": {
          "base_uri": "https://localhost:8080/"
        },
        "id": "7z0EkSrC92Cr",
        "outputId": "294ac2e2-d7c9-4b19-81c5-c1f36c5e94f1"
      },
      "execution_count": null,
      "outputs": [
        {
          "output_type": "stream",
          "name": "stdout",
          "text": [
            "The adjectives for 'happy' are: ['happy']\n",
            "The adjectives for 'dog' are: []\n",
            "The adjectives for 'run' are: []\n",
            "The adjectives for 'big' are: ['large', 'big']\n",
            "The adjectives for 'quick' are: []\n"
          ]
        }
      ]
    },
    {
      "cell_type": "markdown",
      "source": [
        "e) Extract the adverbs of the word from the synonyms list"
      ],
      "metadata": {
        "id": "De4L_q-l94l3"
      }
    },
    {
      "cell_type": "code",
      "source": [
        "for word in words:\n",
        "    synsets = wordnet.synsets(word)\n",
        "    adverbs = [lemma.name() for synset in synsets for lemma in synset.lemmas() if synset.pos() == 'r']\n",
        "    print(f\"The adverbs for '{word}' are: {adverbs}\")"
      ],
      "metadata": {
        "colab": {
          "base_uri": "https://localhost:8080/"
        },
        "id": "odEj9IXS969A",
        "outputId": "98af5477-37e6-455f-fe40-5d6e92b5f9ff"
      },
      "execution_count": null,
      "outputs": [
        {
          "output_type": "stream",
          "name": "stdout",
          "text": [
            "The adverbs for 'happy' are: []\n",
            "The adverbs for 'dog' are: []\n",
            "The adverbs for 'run' are: []\n",
            "The adverbs for 'big' are: ['big', 'boastfully', 'vauntingly', 'big', 'large', 'big', 'big']\n",
            "The adverbs for 'quick' are: ['promptly', 'quickly', 'quick']\n"
          ]
        }
      ]
    },
    {
      "cell_type": "markdown",
      "source": [
        "f) Extract the definition of the word"
      ],
      "metadata": {
        "id": "P_OXUsG19-v0"
      }
    },
    {
      "cell_type": "code",
      "source": [
        "for word in words:\n",
        "    synsets = wordnet.synsets(word)\n",
        "    if synsets:\n",
        "        print(f\"The definition of '{word}' is: {synsets[0].definition()}\")"
      ],
      "metadata": {
        "colab": {
          "base_uri": "https://localhost:8080/"
        },
        "id": "6jdkmnGO9_Rp",
        "outputId": "181b8640-2acc-41b8-9d9a-64fdbcee4320"
      },
      "execution_count": null,
      "outputs": [
        {
          "output_type": "stream",
          "name": "stdout",
          "text": [
            "The definition of 'happy' is: enjoying or showing or marked by joy or pleasure\n",
            "The definition of 'dog' is: a member of the genus Canis (probably descended from the common wolf) that has been domesticated by man since prehistoric times; occurs in many breeds\n",
            "The definition of 'run' is: a score in baseball made by a runner touching all four bases safely\n",
            "The definition of 'big' is: above average in size or number or quantity or magnitude or extent\n",
            "The definition of 'quick' is: any area of the body that is highly sensitive to pain (as the flesh underneath the skin or a fingernail or toenail)\n"
          ]
        }
      ]
    },
    {
      "cell_type": "markdown",
      "source": [
        "g) Find the hypernyms of each word"
      ],
      "metadata": {
        "id": "ztLrN1dj-CJw"
      }
    },
    {
      "cell_type": "code",
      "source": [
        "for word in words:\n",
        "    synsets = wordnet.synsets(word)\n",
        "    for synset in synsets:\n",
        "        print(f\"The hypernyms of '{synset.name()}' are: {', '.join([h.name() for h in synset.hypernyms()])}\")"
      ],
      "metadata": {
        "colab": {
          "base_uri": "https://localhost:8080/"
        },
        "id": "lrSyhg_L-EI0",
        "outputId": "d4ebe356-66e6-45b9-a19b-db9b590b3974"
      },
      "execution_count": null,
      "outputs": [
        {
          "output_type": "stream",
          "name": "stdout",
          "text": [
            "The hypernyms of 'happy.a.01' are: \n",
            "The hypernyms of 'felicitous.s.02' are: \n",
            "The hypernyms of 'glad.s.02' are: \n",
            "The hypernyms of 'happy.s.04' are: \n",
            "The hypernyms of 'dog.n.01' are: canine.n.02, domestic_animal.n.01\n",
            "The hypernyms of 'frump.n.01' are: unpleasant_woman.n.01\n",
            "The hypernyms of 'dog.n.03' are: chap.n.01\n",
            "The hypernyms of 'cad.n.01' are: villain.n.01\n",
            "The hypernyms of 'frank.n.02' are: sausage.n.01\n",
            "The hypernyms of 'pawl.n.01' are: catch.n.06\n",
            "The hypernyms of 'andiron.n.01' are: support.n.10\n",
            "The hypernyms of 'chase.v.01' are: pursue.v.02\n",
            "The hypernyms of 'run.n.01' are: score.n.10\n",
            "The hypernyms of 'test.n.05' are: attempt.n.01\n",
            "The hypernyms of 'footrace.n.01' are: race.n.02\n",
            "The hypernyms of 'streak.n.01' are: succession.n.02\n",
            "The hypernyms of 'run.n.05' are: football_play.n.01\n",
            "The hypernyms of 'run.n.06' are: trip.n.01\n",
            "The hypernyms of 'run.n.07' are: locomotion.n.02\n",
            "The hypernyms of 'run.n.08' are: time_period.n.01\n",
            "The hypernyms of 'run.n.09' are: liberty.n.02\n",
            "The hypernyms of 'run.n.10' are: indefinite_quantity.n.01\n",
            "The hypernyms of 'rivulet.n.01' are: stream.n.01\n",
            "The hypernyms of 'political_campaign.n.01' are: race.n.01\n",
            "The hypernyms of 'run.n.13' are: damage.n.01\n",
            "The hypernyms of 'discharge.n.06' are: flow.n.01\n",
            "The hypernyms of 'run.n.15' are: sequence.n.02\n",
            "The hypernyms of 'run.n.16' are: trip.n.01\n",
            "The hypernyms of 'run.v.01' are: travel_rapidly.v.01\n",
            "The hypernyms of 'scat.v.01' are: leave.v.01\n",
            "The hypernyms of 'run.v.03' are: be.v.03\n",
            "The hypernyms of 'operate.v.01' are: direct.v.04\n",
            "The hypernyms of 'run.v.05' are: be.v.01\n",
            "The hypernyms of 'run.v.06' are: move.v.03\n",
            "The hypernyms of 'function.v.01' are: \n",
            "The hypernyms of 'range.v.01' are: be.v.01\n",
            "The hypernyms of 'campaign.v.01' are: race.v.02\n",
            "The hypernyms of 'play.v.18' are: \n",
            "The hypernyms of 'run.v.11' are: travel.v.01\n",
            "The hypernyms of 'tend.v.01' are: be.v.01\n",
            "The hypernyms of 'run.v.13' are: function.v.01\n",
            "The hypernyms of 'run.v.14' are: become.v.01\n",
            "The hypernyms of 'run.v.15' are: process.v.01\n",
            "The hypernyms of 'run.v.16' are: incur.v.01\n",
            "The hypernyms of 'prevail.v.03' are: continue.v.10\n",
            "The hypernyms of 'run.v.18' are: occur.v.03\n",
            "The hypernyms of 'run.v.19' are: enforce.v.01\n",
            "The hypernyms of 'carry.v.15' are: circulate.v.02\n",
            "The hypernyms of 'run.v.21' are: carry_through.v.01\n",
            "The hypernyms of 'guide.v.05' are: \n",
            "The hypernyms of 'run.v.23' are: pass.v.22\n",
            "The hypernyms of 'run.v.24' are: succeed.v.01\n",
            "The hypernyms of 'run.v.25' are: trade.v.01\n",
            "The hypernyms of 'run.v.26' are: move.v.02\n",
            "The hypernyms of 'run.v.27' are: diffuse.v.01\n",
            "The hypernyms of 'run.v.28' are: sail.v.03\n",
            "The hypernyms of 'run.v.29' are: pass.v.01\n",
            "The hypernyms of 'run.v.30' are: last.v.01\n",
            "The hypernyms of 'run.v.31' are: free.v.01\n",
            "The hypernyms of 'run.v.32' are: accompany.v.02\n",
            "The hypernyms of 'run.v.33' are: run.v.01\n",
            "The hypernyms of 'run.v.34' are: travel.v.01\n",
            "The hypernyms of 'ply.v.03' are: travel.v.03\n",
            "The hypernyms of 'hunt.v.01' are: capture.v.06\n",
            "The hypernyms of 'race.v.02' are: compete.v.01\n",
            "The hypernyms of 'move.v.13' are: change.v.02\n",
            "The hypernyms of 'melt.v.01' are: dissolve.v.02\n",
            "The hypernyms of 'ladder.v.01' are: break.v.02\n",
            "The hypernyms of 'run.v.41' are: disintegrate.v.01\n",
            "The hypernyms of 'large.a.01' are: \n",
            "The hypernyms of 'big.s.02' are: \n",
            "The hypernyms of 'bad.s.02' are: \n",
            "The hypernyms of 'big.s.04' are: \n",
            "The hypernyms of 'big.s.05' are: \n",
            "The hypernyms of 'big.s.06' are: \n",
            "The hypernyms of 'boastful.s.01' are: \n",
            "The hypernyms of 'big.s.08' are: \n",
            "The hypernyms of 'adult.s.01' are: \n",
            "The hypernyms of 'big.s.10' are: \n",
            "The hypernyms of 'big.s.11' are: \n",
            "The hypernyms of 'big.s.12' are: \n",
            "The hypernyms of 'big.s.13' are: \n",
            "The hypernyms of 'big.r.01' are: \n",
            "The hypernyms of 'boastfully.r.01' are: \n",
            "The hypernyms of 'big.r.03' are: \n",
            "The hypernyms of 'big.r.04' are: \n",
            "The hypernyms of 'quick.n.01' are: area.n.03\n",
            "The hypernyms of 'quick.s.01' are: \n",
            "The hypernyms of 'flying.s.02' are: \n",
            "The hypernyms of 'agile.s.01' are: \n",
            "The hypernyms of 'quick.s.04' are: \n",
            "The hypernyms of 'immediate.s.05' are: \n",
            "The hypernyms of 'quick.s.06' are: \n",
            "The hypernyms of 'promptly.r.01' are: \n"
          ]
        }
      ]
    },
    {
      "cell_type": "markdown",
      "source": [
        "h) Find the hyponyms of each word"
      ],
      "metadata": {
        "id": "KME9hH9u-JDx"
      }
    },
    {
      "cell_type": "code",
      "source": [
        "for word in words:\n",
        "    synsets = wordnet.synsets(word)\n",
        "    for synset in synsets:\n",
        "        print(f\"The hyponyms of '{synset.name()}' are: {', '.join([h.name() for h in synset.hyponyms()])}\")"
      ],
      "metadata": {
        "colab": {
          "base_uri": "https://localhost:8080/"
        },
        "id": "Lu8_ABY9-Jgp",
        "outputId": "4fe909f2-85c5-49b8-c27a-8b3339e1567d"
      },
      "execution_count": null,
      "outputs": [
        {
          "output_type": "stream",
          "name": "stdout",
          "text": [
            "The hyponyms of 'happy.a.01' are: \n",
            "The hyponyms of 'felicitous.s.02' are: \n",
            "The hyponyms of 'glad.s.02' are: \n",
            "The hyponyms of 'happy.s.04' are: \n",
            "The hyponyms of 'dog.n.01' are: basenji.n.01, corgi.n.01, cur.n.01, dalmatian.n.02, great_pyrenees.n.01, griffon.n.02, hunting_dog.n.01, lapdog.n.01, leonberg.n.01, mexican_hairless.n.01, newfoundland.n.01, pooch.n.01, poodle.n.01, pug.n.01, puppy.n.01, spitz.n.01, toy_dog.n.01, working_dog.n.01\n",
            "The hyponyms of 'frump.n.01' are: \n",
            "The hyponyms of 'dog.n.03' are: \n",
            "The hyponyms of 'cad.n.01' are: perisher.n.01\n",
            "The hyponyms of 'frank.n.02' are: vienna_sausage.n.01\n",
            "The hyponyms of 'pawl.n.01' are: \n",
            "The hyponyms of 'andiron.n.01' are: \n",
            "The hyponyms of 'chase.v.01' are: hound.v.01, quest.v.02, run_down.v.07, tree.v.03\n",
            "The hyponyms of 'run.n.01' are: earned_run.n.01, run_batted_in.n.01, unearned_run.n.01\n",
            "The hyponyms of 'test.n.05' are: assay.n.04, audition.n.02, clinical_trial.n.01, double_blind.n.01, field_trial.n.03, fitting.n.04, mot.n.02, pilot_project.n.01, preclinical_trial.n.01, snellen_test.n.01\n",
            "The hyponyms of 'footrace.n.01' are: funrun.n.01, marathon.n.02, obstacle_race.n.01, steeplechase.n.01, track_event.n.01\n",
            "The hyponyms of 'streak.n.01' are: losing_streak.n.01, winning_streak.n.01\n",
            "The hyponyms of 'run.n.05' are: draw.n.07, end_run.n.01, return.n.12, reverse.n.05, rush.n.07\n",
            "The hyponyms of 'run.n.06' are: \n",
            "The hyponyms of 'run.n.07' are: dash.n.02\n",
            "The hyponyms of 'run.n.08' are: print_run.n.01, run-time.n.02\n",
            "The hyponyms of 'run.n.09' are: \n",
            "The hyponyms of 'run.n.10' are: \n",
            "The hyponyms of 'rivulet.n.01' are: \n",
            "The hyponyms of 'political_campaign.n.01' are: governor's_race.n.01, senate_campaign.n.01\n",
            "The hyponyms of 'run.n.13' are: \n",
            "The hyponyms of 'discharge.n.06' are: escape.n.07, jet.n.02\n",
            "The hyponyms of 'run.n.15' are: \n",
            "The hyponyms of 'run.n.16' are: \n",
            "The hyponyms of 'run.v.01' are: hare.v.01, jog.v.03, lope.v.01, outrun.v.01, romp.v.02, run.v.33, run_bases.v.01, rush.v.05, scurry.v.01, sprint.v.01, streak.v.02, trot.v.01\n",
            "The hyponyms of 'scat.v.01' are: flee.v.01, skedaddle.v.01\n",
            "The hyponyms of 'run.v.03' are: come.v.09, go_far.v.02, radiate.v.03\n",
            "The hyponyms of 'operate.v.01' are: block.v.05, financier.v.01, warm_up.v.01, work.v.16\n",
            "The hyponyms of 'run.v.05' are: \n",
            "The hyponyms of 'run.v.06' are: circulate.v.04, drain.v.01, eddy.v.01, flush.v.02, gutter.v.02, jet.v.01, pour.v.04, run_down.v.02, seep.v.01, spill.v.02, stream.v.05, tide.v.01, trickle.v.01, waste.v.04\n",
            "The hyponyms of 'function.v.01' are: cut.v.24, double.v.04, roll.v.07, run.v.13, service.v.01\n",
            "The hyponyms of 'range.v.01' are: \n",
            "The hyponyms of 'campaign.v.01' are: cross-file.v.01, rerun.v.03, stump.v.03, whistlestop.v.01\n",
            "The hyponyms of 'play.v.18' are: \n",
            "The hyponyms of 'run.v.11' are: \n",
            "The hyponyms of 'tend.v.01' are: gravitate.v.01, suffer.v.09, take_kindly_to.v.01\n",
            "The hyponyms of 'run.v.13' are: \n",
            "The hyponyms of 'run.v.14' are: \n",
            "The hyponyms of 'run.v.15' are: rerun.v.04\n",
            "The hyponyms of 'run.v.16' are: \n",
            "The hyponyms of 'prevail.v.03' are: carry_over.v.01, reverberate.v.02\n",
            "The hyponyms of 'run.v.18' are: \n",
            "The hyponyms of 'run.v.19' are: step.v.03\n",
            "The hyponyms of 'carry.v.15' are: \n",
            "The hyponyms of 'run.v.21' are: \n",
            "The hyponyms of 'guide.v.05' are: rub.v.01, thread.v.02, thread.v.04\n",
            "The hyponyms of 'run.v.23' are: \n",
            "The hyponyms of 'run.v.24' are: \n",
            "The hyponyms of 'run.v.25' are: \n",
            "The hyponyms of 'run.v.26' are: \n",
            "The hyponyms of 'run.v.27' are: crock.v.01\n",
            "The hyponyms of 'run.v.28' are: \n",
            "The hyponyms of 'run.v.29' are: \n",
            "The hyponyms of 'run.v.30' are: \n",
            "The hyponyms of 'run.v.31' are: \n",
            "The hyponyms of 'run.v.32' are: \n",
            "The hyponyms of 'run.v.33' are: \n",
            "The hyponyms of 'run.v.34' are: \n",
            "The hyponyms of 'ply.v.03' are: \n",
            "The hyponyms of 'hunt.v.01' are: course.v.03, drive.v.21, drive.v.22, falcon.v.01, ferret.v.02, fowl.v.01, fowl.v.02, foxhunt.v.01, hawk.v.02, jacklight.v.01, poach.v.01, rabbit.v.01, scrounge.v.01, seal.v.06, snipe.v.01, still-hunt.v.01, turtle.v.02, whale.v.01\n",
            "The hyponyms of 'race.v.02' are: boat-race.v.01, campaign.v.01, horse-race.v.01, place.v.15, show.v.12, speed_skate.v.01\n",
            "The hyponyms of 'move.v.13' are: \n",
            "The hyponyms of 'melt.v.01' are: fuse.v.04, try.v.08\n",
            "The hyponyms of 'ladder.v.01' are: \n",
            "The hyponyms of 'run.v.41' are: \n",
            "The hyponyms of 'large.a.01' are: \n",
            "The hyponyms of 'big.s.02' are: \n",
            "The hyponyms of 'bad.s.02' are: \n",
            "The hyponyms of 'big.s.04' are: \n",
            "The hyponyms of 'big.s.05' are: \n",
            "The hyponyms of 'big.s.06' are: \n",
            "The hyponyms of 'boastful.s.01' are: \n",
            "The hyponyms of 'big.s.08' are: \n",
            "The hyponyms of 'adult.s.01' are: \n",
            "The hyponyms of 'big.s.10' are: \n",
            "The hyponyms of 'big.s.11' are: \n",
            "The hyponyms of 'big.s.12' are: \n",
            "The hyponyms of 'big.s.13' are: \n",
            "The hyponyms of 'big.r.01' are: \n",
            "The hyponyms of 'boastfully.r.01' are: \n",
            "The hyponyms of 'big.r.03' are: \n",
            "The hyponyms of 'big.r.04' are: \n",
            "The hyponyms of 'quick.n.01' are: \n",
            "The hyponyms of 'quick.s.01' are: \n",
            "The hyponyms of 'flying.s.02' are: \n",
            "The hyponyms of 'agile.s.01' are: \n",
            "The hyponyms of 'quick.s.04' are: \n",
            "The hyponyms of 'immediate.s.05' are: \n",
            "The hyponyms of 'quick.s.06' are: \n",
            "The hyponyms of 'promptly.r.01' are: \n"
          ]
        }
      ]
    },
    {
      "cell_type": "markdown",
      "source": [
        "i) Find the similarities of any two hyponyms of a word"
      ],
      "metadata": {
        "id": "awe_Qg1n-Mjz"
      }
    },
    {
      "cell_type": "code",
      "source": [
        "word1 = \"happy\"\n",
        "word2 = \"joyful\"\n",
        "synsets1 = wordnet.synsets(word1)\n",
        "synsets2 = wordnet.synsets(word2)\n",
        "for synset1 in synsets1:\n",
        "    for synset2 in synsets2:\n",
        "        similarity = synset1.path_similarity(synset2)\n",
        "        if similarity is not None:\n",
        "            print(f\"The similarity between '{synset1.name()}' and '{synset2.name()}' is: {similarity}\")"
      ],
      "metadata": {
        "id": "savCHRsl-ON1",
        "outputId": "bb6d737b-6235-4c7f-eac6-ad088b44fe43",
        "colab": {
          "base_uri": "https://localhost:8080/"
        }
      },
      "execution_count": null,
      "outputs": [
        {
          "output_type": "stream",
          "name": "stdout",
          "text": [
            "The similarity between 'happy.a.01' and 'joyful.a.01' is: 0.3333333333333333\n",
            "The similarity between 'happy.a.01' and 'elated.s.02' is: 0.3333333333333333\n",
            "The similarity between 'felicitous.s.02' and 'joyful.a.01' is: 0.3333333333333333\n",
            "The similarity between 'felicitous.s.02' and 'elated.s.02' is: 0.3333333333333333\n",
            "The similarity between 'glad.s.02' and 'joyful.a.01' is: 0.3333333333333333\n",
            "The similarity between 'glad.s.02' and 'elated.s.02' is: 0.3333333333333333\n",
            "The similarity between 'happy.s.04' and 'joyful.a.01' is: 0.3333333333333333\n",
            "The similarity between 'happy.s.04' and 'elated.s.02' is: 0.3333333333333333\n"
          ]
        }
      ]
    }
  ]
}