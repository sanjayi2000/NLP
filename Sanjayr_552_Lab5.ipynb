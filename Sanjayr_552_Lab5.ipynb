{
 "cells": [
  {
   "cell_type": "code",
   "execution_count": 1,
   "metadata": {},
   "outputs": [],
   "source": [
    "import nltk"
   ]
  },
  {
   "cell_type": "code",
   "execution_count": 3,
   "metadata": {},
   "outputs": [
    {
     "name": "stderr",
     "output_type": "stream",
     "text": [
      "[nltk_data] Downloading package wordnet to\n",
      "[nltk_data]     C:\\Users\\sanja\\AppData\\Roaming\\nltk_data...\n",
      "[nltk_data]   Package wordnet is already up-to-date!\n"
     ]
    }
   ],
   "source": [
    "import nltk\n",
    "nltk.download('wordnet')\n",
    "from nltk.corpus import wordnet"
   ]
  },
  {
   "cell_type": "code",
   "execution_count": 4,
   "metadata": {},
   "outputs": [],
   "source": [
    "def get_antonyms(word):\n",
    "    antonyms = set()\n",
    "    for syn in wordnet.synsets(word):\n",
    "        for lemma in syn.lemmas():\n",
    "            for antonym in lemma.antonyms():\n",
    "                antonyms.add(antonym.name())\n",
    "    return antonyms"
   ]
  },
  {
   "cell_type": "code",
   "execution_count": 5,
   "metadata": {},
   "outputs": [
    {
     "name": "stdout",
     "output_type": "stream",
     "text": [
      "Antonyms of good: {'bad', 'evilness', 'ill', 'badness', 'evil'}\n"
     ]
    }
   ],
   "source": [
    "word = \"good\"\n",
    "antonyms = get_antonyms(word)\n",
    "print(f\"Antonyms of {word}: {antonyms}\")"
   ]
  },
  {
   "cell_type": "code",
   "execution_count": 8,
   "metadata": {},
   "outputs": [],
   "source": [
    "from snowballstemmer import stemmer"
   ]
  },
  {
   "cell_type": "code",
   "execution_count": 9,
   "metadata": {},
   "outputs": [],
   "source": [
    "french_stemmer = stemmer(\"french\")\n",
    "spanish_stemmer = stemmer(\"spanish\")"
   ]
  },
  {
   "cell_type": "code",
   "execution_count": 10,
   "metadata": {},
   "outputs": [],
   "source": [
    "french_words = [\"manger\", \"mangé\", \"mangeais\", \"mangerais\", \"mangerai\"]\n",
    "spanish_words = [\"comer\", \"comiendo\", \"comido\", \"comeré\", \"comería\"]"
   ]
  },
  {
   "cell_type": "code",
   "execution_count": 11,
   "metadata": {},
   "outputs": [
    {
     "name": "stdout",
     "output_type": "stream",
     "text": [
      "French words: ['manger', 'mangé', 'mangeais', 'mangerais', 'mangerai']\n",
      "French stems: ['mang', 'mang', 'mang', 'mang', 'mang']\n",
      "Spanish words: ['comer', 'comiendo', 'comido', 'comeré', 'comería']\n",
      "Spanish stems: ['com', 'com', 'com', 'com', 'com']\n"
     ]
    }
   ],
   "source": [
    "french_stems = [french_stemmer.stemWord(word) for word in french_words]\n",
    "spanish_stems = [spanish_stemmer.stemWord(word) for word in spanish_words]\n",
    "\n",
    "print(f\"French words: {french_words}\")\n",
    "print(f\"French stems: {french_stems}\")\n",
    "print(f\"Spanish words: {spanish_words}\")\n",
    "print(f\"Spanish stems: {spanish_stems}\")"
   ]
  },
  {
   "cell_type": "code",
   "execution_count": 14,
   "metadata": {},
   "outputs": [],
   "source": [
    "from nltk.stem import WordNetLemmatizer\n",
    "from nltk.stem import PorterStemmer, LancasterStemmer,SnowballStemmer"
   ]
  },
  {
   "cell_type": "code",
   "execution_count": 16,
   "metadata": {},
   "outputs": [
    {
     "name": "stdout",
     "output_type": "stream",
     "text": [
      "Words: ['running', 'flies', 'generously', 'better', 'rocks']\n",
      "Lemmatized: ['running', 'fly', 'generously', 'better', 'rock']\n",
      "Porter Stemmer: ['run', 'fli', 'gener', 'better', 'rock']\n",
      "Lancaster Stemmer: ['run', 'fli', 'gen', 'bet', 'rock']\n",
      "Snowball Stemmer: ['run', 'fli', 'generous', 'better', 'rock']\n"
     ]
    }
   ],
   "source": [
    "wordnet_lemmatizer = WordNetLemmatizer()\n",
    "porter_stemmer = PorterStemmer()\n",
    "lancaster_stemmer = LancasterStemmer()\n",
    "snowball_stemmer = SnowballStemmer('english')\n",
    "\n",
    "\n",
    "words = [\"running\", \"flies\", \"generously\", \"better\", \"rocks\"]\n",
    "\n",
    "\n",
    "lemmatized_words = [wordnet_lemmatizer.lemmatize(word) for word in words]\n",
    "porter_stems = [porter_stemmer.stem(word) for word in words]\n",
    "lancaster_stems = [lancaster_stemmer.stem(word) for word in words]\n",
    "snowball_stems = [snowball_stemmer.stem(word) for word in words]\n",
    "\n",
    "print(f\"Words: {words}\")\n",
    "print(f\"Lemmatized: {lemmatized_words}\")\n",
    "print(f\"Porter Stemmer: {porter_stems}\")\n",
    "print(f\"Lancaster Stemmer: {lancaster_stems}\")\n",
    "print(f\"Snowball Stemmer: {snowball_stems}\")\n"
   ]
  }
 ],
 "metadata": {
  "kernelspec": {
   "display_name": "Python 3",
   "language": "python",
   "name": "python3"
  },
  "language_info": {
   "codemirror_mode": {
    "name": "ipython",
    "version": 3
   },
   "file_extension": ".py",
   "mimetype": "text/x-python",
   "name": "python",
   "nbconvert_exporter": "python",
   "pygments_lexer": "ipython3",
   "version": "3.11.5"
  }
 },
 "nbformat": 4,
 "nbformat_minor": 2
}
