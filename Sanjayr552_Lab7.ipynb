{
  "nbformat": 4,
  "nbformat_minor": 0,
  "metadata": {
    "colab": {
      "provenance": [],
      "authorship_tag": "ABX9TyMvVoalud0Z8yrJn5k76XDA",
      "include_colab_link": true
    },
    "kernelspec": {
      "name": "python3",
      "display_name": "Python 3"
    },
    "language_info": {
      "name": "python"
    }
  },
  "cells": [
    {
      "cell_type": "markdown",
      "metadata": {
        "id": "view-in-github",
        "colab_type": "text"
      },
      "source": [
        "<a href=\"https://colab.research.google.com/github/sanjayi2000/NLP/blob/main/Sanjayr552_Lab7.ipynb\" target=\"_parent\"><img src=\"https://colab.research.google.com/assets/colab-badge.svg\" alt=\"Open In Colab\"/></a>"
      ]
    },
    {
      "cell_type": "code",
      "execution_count": 1,
      "metadata": {
        "id": "B0XT8e0QOJ81"
      },
      "outputs": [],
      "source": [
        "import pandas as pd\n",
        "import nltk\n",
        "from nltk.tokenize import word_tokenize\n",
        "from nltk.corpus import stopwords\n",
        "from nltk.stem import WordNetLemmatizer\n",
        "from sklearn.feature_extraction.text import TfidfVectorizer\n",
        "from sklearn.metrics.pairwise import cosine_similarity\n",
        "from sklearn.feature_extraction.text import CountVectorizer\n",
        "import numpy as np"
      ]
    },
    {
      "cell_type": "code",
      "source": [
        "text1 = \"Cooper Raiff has this rare quality when it comes to making movies about young people figuring themselves out in that he’s so thoughtful and generous about other people across all periods of life. Coming-of-agers (at any age) are so often selfish to the point of excruciating obsession but Cooper looks out for little brothers and old friends and party guests and new loves and his mum, oh how he loves his mum. He’s a party starter! A people pleaser! An impossibly kind and big-hearted filmmaker and human who listens to others and tells them exactly how he feels (how dare he!) while also stubbornly continuing to make movies like this, so sincere, so unprovocative, when everybody else rolls their eyes and tells you it’s all too much. Maybe it is, but sometimes I think that’s vital. I loved it!\"\n",
        "text2 = \"Brought back to life by an unorthodox scientist, a young woman runs off with a lawyer on a whirlwind adventure across the continents. Free from the prejudices of her times, she grows steadfast in her purpose to stand for equality and liberation.\"\n"
      ],
      "metadata": {
        "id": "b7ilFI2kPjKa"
      },
      "execution_count": 2,
      "outputs": []
    },
    {
      "cell_type": "code",
      "source": [
        "nltk.download('punkt')\n",
        "nltk.download('wordnet')\n",
        "nltk.download('stopwords')\n",
        "stop_words = set(stopwords.words('english'))\n",
        "lemmatizer = WordNetLemmatizer()"
      ],
      "metadata": {
        "colab": {
          "base_uri": "https://localhost:8080/"
        },
        "id": "twajrMgaQiX4",
        "outputId": "028187bc-2322-4554-fbfb-0c39f1c43f5b"
      },
      "execution_count": 3,
      "outputs": [
        {
          "output_type": "stream",
          "name": "stderr",
          "text": [
            "[nltk_data] Downloading package punkt to /root/nltk_data...\n",
            "[nltk_data]   Unzipping tokenizers/punkt.zip.\n",
            "[nltk_data] Downloading package wordnet to /root/nltk_data...\n",
            "[nltk_data] Downloading package stopwords to /root/nltk_data...\n",
            "[nltk_data]   Unzipping corpora/stopwords.zip.\n"
          ]
        }
      ]
    },
    {
      "cell_type": "code",
      "source": [
        "def preprocess_text(text):\n",
        "    tokens = word_tokenize(text.lower())\n",
        "    tokens = [token for token in tokens if token.isalnum()]\n",
        "    tokens = [token for token in tokens if token not in stop_words]\n",
        "    tokens = [lemmatizer.lemmatize(token) for token in tokens]\n",
        "    return ' '.join(tokens)"
      ],
      "metadata": {
        "id": "oW95nmf8TvFO"
      },
      "execution_count": 4,
      "outputs": []
    },
    {
      "cell_type": "code",
      "source": [
        "preprocessed_text1 = preprocess_text(text1)\n",
        "preprocessed_text2 = preprocess_text(text2)"
      ],
      "metadata": {
        "id": "LUu60XigTy0w"
      },
      "execution_count": 5,
      "outputs": []
    },
    {
      "cell_type": "markdown",
      "source": [
        "Cosine Similarity"
      ],
      "metadata": {
        "id": "9UxWuf_bT-7T"
      }
    },
    {
      "cell_type": "code",
      "source": [
        "vectorizer = TfidfVectorizer()\n",
        "tfidf_matrix = vectorizer.fit_transform([preprocessed_text1, preprocessed_text2])\n",
        "cosine_sim = cosine_similarity(tfidf_matrix[0:1], tfidf_matrix[1:2])\n",
        "\n",
        "print(\"Cosine Similarity:\", cosine_sim[0][0])"
      ],
      "metadata": {
        "colab": {
          "base_uri": "https://localhost:8080/"
        },
        "id": "DYBJL8a2Tz-B",
        "outputId": "f818f89f-400a-48d0-d533-b8f7a2b74c37"
      },
      "execution_count": 6,
      "outputs": [
        {
          "output_type": "stream",
          "name": "stdout",
          "text": [
            "Cosine Similarity: 0.036255611394539776\n"
          ]
        }
      ]
    },
    {
      "cell_type": "markdown",
      "source": [
        "Jaccard Similarity"
      ],
      "metadata": {
        "id": "-JpC1LCZUBSz"
      }
    },
    {
      "cell_type": "code",
      "source": [
        "vectorizer = CountVectorizer()\n",
        "X = vectorizer.fit_transform([preprocessed_text1, preprocessed_text2])\n",
        "X = X.toarray()\n",
        "jaccard_sim = np.sum(np.minimum(X[0], X[1])) / np.sum(np.maximum(X[0], X[1]))\n",
        "\n",
        "print(\"Jaccard Similarity:\", jaccard_sim)"
      ],
      "metadata": {
        "colab": {
          "base_uri": "https://localhost:8080/"
        },
        "id": "34iRsi89T6AQ",
        "outputId": "daf88322-f973-4c5e-c253-4fbb77bfd710"
      },
      "execution_count": 7,
      "outputs": [
        {
          "output_type": "stream",
          "name": "stdout",
          "text": [
            "Jaccard Similarity: 0.03409090909090909\n"
          ]
        }
      ]
    }
  ]
}